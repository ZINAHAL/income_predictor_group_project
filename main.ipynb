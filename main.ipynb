{
 "cells": [
  {
   "cell_type": "markdown",
   "metadata": {},
   "source": [
    "# IMPORTED LIBRARIES"
   ]
  },
  {
   "cell_type": "code",
   "execution_count": 1,
   "metadata": {},
   "outputs": [],
   "source": [
    "import pandas as pd\n",
    "import numpy as np\n",
    "import seaborn as sns\n",
    "import matplotlib.pyplot as plt\n",
    "\n",
    "from sklearn.preprocessing import LabelEncoder #PolynomialFeatures, StandardScaler, scale\n",
    "#from sklearn.linear_model import LinearRegression, Ridge\n",
    "\n",
    "from category_encoders import *\n",
    "import lightgbm as lgbm\n",
    "from sklearn.model_selection import train_test_split\n",
    "\n",
    "plt.rcParams['figure.figsize'] = [50, 60]\n",
    "\n",
    "#%matplotlib inline\n",
    "plt.style.use('seaborn-whitegrid')"
   ]
  },
  {
   "cell_type": "markdown",
   "metadata": {},
   "source": [
    "# READING THE DATA"
   ]
  },
  {
   "cell_type": "code",
   "execution_count": 2,
   "metadata": {},
   "outputs": [
    {
     "name": "stderr",
     "output_type": "stream",
     "text": [
      "/usr/local/lib/python3.5/dist-packages/IPython/core/interactiveshell.py:3058: DtypeWarning: Columns (2) have mixed types. Specify dtype option on import or set low_memory=False.\n",
      "  interactivity=interactivity, compiler=compiler, result=result)\n"
     ]
    }
   ],
   "source": [
    "missing_values = ['0', 'nA', '#NUM!', '#NA', '#N/A']\n",
    "training_data = pd.read_csv(\"data/income-train.csv\", na_values=missing_values)\n",
    "test_data = pd.read_csv(\"data/income-test.csv\", na_values=missing_values)"
   ]
  },
  {
   "cell_type": "code",
   "execution_count": 3,
   "metadata": {},
   "outputs": [],
   "source": [
    "rename_cols = {\"Crime Level in the City of Employement\" : \"Crime Level\",\n",
    "              \"Work Experience in Current Job [years]\" : \"Work Experience\",\n",
    "              \"Body Height [cm]\" : \"Body Height\",\n",
    "              \"Yearly Income in addition to Salary (e.g. Rental Income)\" : \"Side Income\",\n",
    "              \"Total Yearly Income [EUR]\" : \"Total Income\"}\n",
    "\n",
    "training_data.rename(columns=rename_cols, inplace=True)\n",
    "test_data.rename(columns=rename_cols, inplace=True)"
   ]
  },
  {
   "cell_type": "code",
   "execution_count": 18,
   "metadata": {},
   "outputs": [
    {
     "data": {
      "text/html": [
       "<div>\n",
       "<style scoped>\n",
       "    .dataframe tbody tr th:only-of-type {\n",
       "        vertical-align: middle;\n",
       "    }\n",
       "\n",
       "    .dataframe tbody tr th {\n",
       "        vertical-align: top;\n",
       "    }\n",
       "\n",
       "    .dataframe thead th {\n",
       "        text-align: right;\n",
       "    }\n",
       "</style>\n",
       "<table border=\"1\" class=\"dataframe\">\n",
       "  <thead>\n",
       "    <tr style=\"text-align: right;\">\n",
       "      <th></th>\n",
       "      <th>Year of Record</th>\n",
       "      <th>Housing Situation</th>\n",
       "      <th>Work Experience</th>\n",
       "      <th>Satisfation with employer</th>\n",
       "      <th>Gender</th>\n",
       "      <th>Age</th>\n",
       "      <th>Country</th>\n",
       "      <th>Size of City</th>\n",
       "      <th>Profession</th>\n",
       "      <th>University Degree</th>\n",
       "      <th>Body Height</th>\n",
       "      <th>Side Income</th>\n",
       "      <th>Total Income</th>\n",
       "    </tr>\n",
       "  </thead>\n",
       "  <tbody>\n",
       "    <tr>\n",
       "      <th>0</th>\n",
       "      <td>1940.0</td>\n",
       "      <td>shared_place</td>\n",
       "      <td>17</td>\n",
       "      <td>Unhappy</td>\n",
       "      <td>other</td>\n",
       "      <td>45</td>\n",
       "      <td>Afghanistan</td>\n",
       "      <td>25179</td>\n",
       "      <td>group head</td>\n",
       "      <td>No</td>\n",
       "      <td>182</td>\n",
       "      <td>0.0</td>\n",
       "      <td>6182.05</td>\n",
       "    </tr>\n",
       "    <tr>\n",
       "      <th>1</th>\n",
       "      <td>1940.0</td>\n",
       "      <td>shared_place</td>\n",
       "      <td>4</td>\n",
       "      <td>Unhappy</td>\n",
       "      <td>female</td>\n",
       "      <td>17</td>\n",
       "      <td>Afghanistan</td>\n",
       "      <td>2278204</td>\n",
       "      <td>heavy vehicle and mobile equipment service tec...</td>\n",
       "      <td>No</td>\n",
       "      <td>172</td>\n",
       "      <td>0.0</td>\n",
       "      <td>6819.69</td>\n",
       "    </tr>\n",
       "    <tr>\n",
       "      <th>2</th>\n",
       "      <td>1940.0</td>\n",
       "      <td>shared_place</td>\n",
       "      <td>21</td>\n",
       "      <td>Unhappy</td>\n",
       "      <td>female</td>\n",
       "      <td>48</td>\n",
       "      <td>Afghanistan</td>\n",
       "      <td>822134</td>\n",
       "      <td>sorter</td>\n",
       "      <td>Bachelor</td>\n",
       "      <td>144</td>\n",
       "      <td>0.0</td>\n",
       "      <td>8663.53</td>\n",
       "    </tr>\n",
       "    <tr>\n",
       "      <th>3</th>\n",
       "      <td>1940.0</td>\n",
       "      <td>shared_place</td>\n",
       "      <td>18</td>\n",
       "      <td>Average</td>\n",
       "      <td>female</td>\n",
       "      <td>42</td>\n",
       "      <td>Albania</td>\n",
       "      <td>59477</td>\n",
       "      <td>quality control senior engineer</td>\n",
       "      <td>No</td>\n",
       "      <td>152</td>\n",
       "      <td>0.0</td>\n",
       "      <td>2400.64</td>\n",
       "    </tr>\n",
       "    <tr>\n",
       "      <th>4</th>\n",
       "      <td>1940.0</td>\n",
       "      <td>shared_place</td>\n",
       "      <td>8</td>\n",
       "      <td>Happy</td>\n",
       "      <td>other</td>\n",
       "      <td>15</td>\n",
       "      <td>Albania</td>\n",
       "      <td>23494</td>\n",
       "      <td>logistician</td>\n",
       "      <td>Master</td>\n",
       "      <td>180</td>\n",
       "      <td>0.0</td>\n",
       "      <td>2816.18</td>\n",
       "    </tr>\n",
       "  </tbody>\n",
       "</table>\n",
       "</div>"
      ],
      "text/plain": [
       "   Year of Record Housing Situation  Work Experience  \\\n",
       "0          1940.0      shared_place               17   \n",
       "1          1940.0      shared_place                4   \n",
       "2          1940.0      shared_place               21   \n",
       "3          1940.0      shared_place               18   \n",
       "4          1940.0      shared_place                8   \n",
       "\n",
       "  Satisfation with employer  Gender  Age      Country  Size of City  \\\n",
       "0                   Unhappy   other   45  Afghanistan         25179   \n",
       "1                   Unhappy  female   17  Afghanistan       2278204   \n",
       "2                   Unhappy  female   48  Afghanistan        822134   \n",
       "3                   Average  female   42      Albania         59477   \n",
       "4                     Happy   other   15      Albania         23494   \n",
       "\n",
       "                                          Profession University Degree  \\\n",
       "0                                         group head                No   \n",
       "1  heavy vehicle and mobile equipment service tec...                No   \n",
       "2                                             sorter          Bachelor   \n",
       "3                    quality control senior engineer                No   \n",
       "4                                        logistician            Master   \n",
       "\n",
       "   Body Height  Side Income  Total Income  \n",
       "0          182          0.0       6182.05  \n",
       "1          172          0.0       6819.69  \n",
       "2          144          0.0       8663.53  \n",
       "3          152          0.0       2400.64  \n",
       "4          180          0.0       2816.18  "
      ]
     },
     "execution_count": 18,
     "metadata": {},
     "output_type": "execute_result"
    }
   ],
   "source": [
    "training_data.head()"
   ]
  },
  {
   "cell_type": "markdown",
   "metadata": {},
   "source": [
    "# TRAINING DATA PREPROCESSING"
   ]
  },
  {
   "cell_type": "markdown",
   "metadata": {},
   "source": [
    "## - Dropping/Changing Rows/Columns"
   ]
  },
  {
   "cell_type": "code",
   "execution_count": 4,
   "metadata": {},
   "outputs": [],
   "source": [
    "training_data.drop(columns=['Instance', 'Crime Level', 'Hair Color', 'Wears Glasses'], inplace=True)\n",
    "test_data.drop(columns=['Crime Level', 'Hair Color', 'Wears Glasses', 'Total Income'], inplace=True)"
   ]
  },
  {
   "cell_type": "code",
   "execution_count": 5,
   "metadata": {},
   "outputs": [],
   "source": [
    "training_data.drop_duplicates(inplace=True)"
   ]
  },
  {
   "cell_type": "code",
   "execution_count": 6,
   "metadata": {},
   "outputs": [],
   "source": [
    "training_data.dropna(subset=['Year of Record'], inplace=True)"
   ]
  },
  {
   "cell_type": "code",
   "execution_count": null,
   "metadata": {},
   "outputs": [],
   "source": [
    "# these are the outliers: the rows that don't go well with the graph of 'Year of Record' x 'Total Income' and 'Housing situation' x 'Total Income'\n",
    "training_data.drop(index=list(training_data[(training_data['Total Income'] > 500000) & (training_data['Total Income'] < 700000) & (training_data['Year of Record'] < 1995)].index), inplace=True)"
   ]
  },
  {
   "cell_type": "code",
   "execution_count": 7,
   "metadata": {},
   "outputs": [],
   "source": [
    "training_data['Gender'] = training_data['Gender'].replace('f', 'female')\n",
    "test_data['Gender'] = test_data['Gender'].replace('f', 'female')"
   ]
  },
  {
   "cell_type": "code",
   "execution_count": 8,
   "metadata": {},
   "outputs": [],
   "source": [
    "training_data['Side Income'] = training_data['Side Income'].map(lambda x: x.rstrip('\\sEUR'))\n",
    "test_data['Side Income'] = test_data['Side Income'].map(lambda x: x.rstrip('\\sEUR'))"
   ]
  },
  {
   "cell_type": "markdown",
   "metadata": {},
   "source": [
    "## - Dealing with NaN values"
   ]
  },
  {
   "cell_type": "code",
   "execution_count": 9,
   "metadata": {},
   "outputs": [],
   "source": [
    "column_NaN_values = {\"Housing Situation\" : \"shared_place\",\n",
    "                    \"Work Experience\" : \"0\",\n",
    "                    \"Satisfation with employer\" : \"Somewhat Unhappy\",\n",
    "                    \"Gender\" : \"unknown\",\n",
    "                    \"Profession\" : \"no job\",\n",
    "                    \"University Degree\" : \"No\",\n",
    "                    \"Country\" : \"No\",\n",
    "                    \"Wears Glasses\" : 0}\n",
    "                    #\"Year of Record\" : 0}\n",
    "\n",
    "for col in training_data.dtypes.index.tolist():\n",
    "    if col in column_NaN_values.keys():\n",
    "        training_data[col] = training_data[col].fillna(value=column_NaN_values[col])\n",
    "        test_data[col] = test_data[col].fillna(value=column_NaN_values[col])\n",
    "\n",
    "test_data['Year of Record'] = test_data['Year of Record'].fillna(value=training_data['Year of Record'].mean())"
   ]
  },
  {
   "cell_type": "markdown",
   "metadata": {},
   "source": [
    "## - Handling of Column Data Types"
   ]
  },
  {
   "cell_type": "code",
   "execution_count": 10,
   "metadata": {},
   "outputs": [],
   "source": [
    "training_data['Work Experience'] = pd.to_numeric(training_data['Work Experience']).astype(int)\n",
    "test_data['Work Experience'] = pd.to_numeric(test_data['Work Experience']).astype(int)"
   ]
  },
  {
   "cell_type": "code",
   "execution_count": 11,
   "metadata": {},
   "outputs": [],
   "source": [
    "training_data['Side Income'] = pd.to_numeric(training_data['Side Income'])\n",
    "test_data['Side Income'] = pd.to_numeric(test_data['Side Income'])"
   ]
  },
  {
   "cell_type": "markdown",
   "metadata": {},
   "source": [
    "## - Encoding Categorical Features"
   ]
  },
  {
   "cell_type": "code",
   "execution_count": null,
   "metadata": {},
   "outputs": [],
   "source": [
    "#for col in training_data.dtypes[training_data.dtypes == 'object'].index.tolist():\n",
    "#    le = LabelEncoder()\n",
    "#    le.fit(training_data[col].unique())\n",
    "#    training_data[col] = le.transform(training_data[col])\n",
    "#    \n",
    "#for col in test_data.dtypes[test_data.dtypes == 'object'].index.tolist():\n",
    "#    le = LabelEncoder()\n",
    "#    le.fit(test_data[col].unique())\n",
    "#    test_data[col] = le.transform(test_data[col])"
   ]
  },
  {
   "cell_type": "code",
   "execution_count": 12,
   "metadata": {},
   "outputs": [],
   "source": [
    "y = training_data['Total Income']\n",
    "x = training_data.drop(columns=['Total Income'])\n",
    "pred_instance = test_data['Instance']"
   ]
  },
  {
   "cell_type": "code",
   "execution_count": 13,
   "metadata": {},
   "outputs": [],
   "source": [
    "target_encoder = TargetEncoder()\n",
    "target_encoder.fit(x,y)\n",
    "\n",
    "x = target_encoder.transform(x)\n",
    "x_for_pred = target_encoder.transform(test_data.drop(columns=['Instance']))"
   ]
  },
  {
   "cell_type": "markdown",
   "metadata": {},
   "source": [
    "## - Building the Model"
   ]
  },
  {
   "cell_type": "code",
   "execution_count": 14,
   "metadata": {},
   "outputs": [],
   "source": [
    "X_train,X_test,y_train,y_test = train_test_split(x, y, test_size=0.2, random_state=0)"
   ]
  },
  {
   "cell_type": "code",
   "execution_count": 15,
   "metadata": {},
   "outputs": [
    {
     "name": "stderr",
     "output_type": "stream",
     "text": [
      "/usr/local/lib/python3.5/dist-packages/lightgbm/engine.py:148: UserWarning: Found `num_trees` in params. Will use it instead of argument\n",
      "  warnings.warn(\"Found `{}` in params. Will use it instead of argument\".format(alias))\n"
     ]
    }
   ],
   "source": [
    "d_train = lgbm.Dataset(X_train, label=y_train)\n",
    "params = {'learning_rate' : 0.03,\n",
    "         'boosting_type' : 'gbdt',\n",
    "         'objective' : 'regression',\n",
    "         'metric' : 'mae',\n",
    "         'num_leaves' : 255,\n",
    "         'num_trees' : 500,\n",
    "         'num_threads' : 16}\n",
    "\n",
    "# the last three parameters made the algorithm much much faster\n",
    "\n",
    "reg = lgbm.train(params, d_train, 45000)"
   ]
  },
  {
   "cell_type": "code",
   "execution_count": 16,
   "metadata": {},
   "outputs": [],
   "source": [
    "y_pred = reg.predict(x_for_pred)"
   ]
  },
  {
   "cell_type": "code",
   "execution_count": 17,
   "metadata": {},
   "outputs": [],
   "source": [
    "sub_df = pd.DataFrame({'Instance': pred_instance,\n",
    "                       'Total Yearly Income [EUR]': y_pred})\n",
    "\n",
    "sub_df.to_csv(\"team203.csv\",index=False)"
   ]
  },
  {
   "cell_type": "markdown",
   "metadata": {},
   "source": [
    "## - Graphs"
   ]
  },
  {
   "cell_type": "code",
   "execution_count": null,
   "metadata": {},
   "outputs": [],
   "source": [
    "#sns.catplot(x=\"Satisfation with employer\", y=\"Total Income\", data=training_data[[\"Satisfation with employer\", \"Total Income\"]])"
   ]
  },
  {
   "cell_type": "code",
   "execution_count": null,
   "metadata": {},
   "outputs": [],
   "source": [
    "#sns.countplot(training_data['Work Experience'])"
   ]
  },
  {
   "cell_type": "code",
   "execution_count": null,
   "metadata": {},
   "outputs": [],
   "source": [
    "#sns.relplot(x=\"Work Experience\", y=\"Total Income\", data=training_data[[\"Work Experience\", \"Total Income\"]])"
   ]
  },
  {
   "cell_type": "code",
   "execution_count": null,
   "metadata": {},
   "outputs": [],
   "source": [
    "#training_data['Crime Level'].value_counts(dropna=False)"
   ]
  },
  {
   "cell_type": "code",
   "execution_count": null,
   "metadata": {},
   "outputs": [],
   "source": [
    "#sns.countplot(training_data['Crime Level'])"
   ]
  },
  {
   "cell_type": "code",
   "execution_count": null,
   "metadata": {},
   "outputs": [],
   "source": [
    "#sns.relplot(x=\"Crime Level\", y=\"Total Income\", data=training_data[[\"Crime Level\", \"Total Income\"]]);"
   ]
  },
  {
   "cell_type": "code",
   "execution_count": null,
   "metadata": {},
   "outputs": [],
   "source": [
    "#training_data['Housing Situation'].value_counts(dropna=False)"
   ]
  },
  {
   "cell_type": "code",
   "execution_count": null,
   "metadata": {},
   "outputs": [],
   "source": [
    "#sns.countplot(training_data['Housing Situation'])"
   ]
  },
  {
   "cell_type": "code",
   "execution_count": null,
   "metadata": {},
   "outputs": [],
   "source": [
    "#sns.catplot(x=\"Housing Situation\", y=\"Total Income\", data=training_data[[\"Housing Situation\", \"Total Income\"]])"
   ]
  },
  {
   "cell_type": "code",
   "execution_count": null,
   "metadata": {},
   "outputs": [],
   "source": [
    "#sns.countplot(training_data['Year of Record'])"
   ]
  },
  {
   "cell_type": "code",
   "execution_count": null,
   "metadata": {},
   "outputs": [],
   "source": [
    "#sns.relplot(x=\"Year of Record\", y=\"Total Income\", data=training_data[[\"Year of Record\", \"Total Income\"]]);"
   ]
  },
  {
   "cell_type": "markdown",
   "metadata": {},
   "source": [
    "## - Side Work"
   ]
  },
  {
   "cell_type": "code",
   "execution_count": 20,
   "metadata": {},
   "outputs": [],
   "source": [
    "training_data.corr()"
   ]
  },
  {
   "cell_type": "code",
   "execution_count": null,
   "metadata": {},
   "outputs": [],
   "source": [
    "#training_data.dropna(subset=['Year of Record', 'Country'], inplace=True) #******"
   ]
  },
  {
   "cell_type": "code",
   "execution_count": null,
   "metadata": {},
   "outputs": [],
   "source": [
    "sns.relplot(x=\"Crime Level\", y=\"Total Income\", data=training_data[[\"Crime Level\", \"Total Income\"]])"
   ]
  },
  {
   "cell_type": "code",
   "execution_count": null,
   "metadata": {},
   "outputs": [],
   "source": [
    "#sns.relplot(x=\"Year of Record\", y=\"Total Income\", data=pd.DataFrame([X_train[\"Year of Record\"], y]))"
   ]
  },
  {
   "cell_type": "code",
   "execution_count": null,
   "metadata": {},
   "outputs": [],
   "source": [
    "regression = LinearRegression().fit(X_train, y_train)"
   ]
  },
  {
   "cell_type": "code",
   "execution_count": null,
   "metadata": {},
   "outputs": [],
   "source": [
    "regression.score(X_train, y_train)"
   ]
  },
  {
   "cell_type": "code",
   "execution_count": null,
   "metadata": {},
   "outputs": [],
   "source": [
    "pred = regression.predict(X_test)\n",
    "#print(\"Root Mean squared Error\")\n",
    "#print((sqrt(mean_squared_error(np.exp(Y_test), np.exp(pred)))))"
   ]
  },
  {
   "cell_type": "code",
   "execution_count": null,
   "metadata": {},
   "outputs": [],
   "source": [
    "#poly = PolynomialFeatures(degree=15)\n",
    "#poly.fit_transform(X_train)"
   ]
  },
  {
   "cell_type": "code",
   "execution_count": null,
   "metadata": {},
   "outputs": [],
   "source": [
    "\n",
    "X = [[0.44, 0.68], [0.99, 0.23]]\n",
    "vector = [109.85, 155.72]\n",
    "predict= [[0.49, 0.18]]\n",
    "#Edit: added second square bracket above to fix the ValueError problem\n",
    "\n",
    "poly = PolynomialFeatures(degree=2)\n",
    "X_ = poly.fit_transform(X)\n",
    "predict_ = poly.fit_transform(predict)\n",
    "\n",
    "clf = linear_model.LinearRegression()\n",
    "clf.fit(X_, vector)\n",
    "print clf.predict(predict_)"
   ]
  },
  {
   "cell_type": "code",
   "execution_count": null,
   "metadata": {},
   "outputs": [],
   "source": [
    "tt = training_data.drop(columns=['Total Income'])\n",
    "st = scale(tt)\n"
   ]
  },
  {
   "cell_type": "code",
   "execution_count": null,
   "metadata": {},
   "outputs": [],
   "source": [
    "t = training_data.drop(columns=['Total Income'])\n",
    "names = t.columns\n",
    "#scaled_t = scale(t)\n",
    "\n",
    "scaler = StandardScaler()\n",
    "scaled_t = scaler.fit_transform(t)\n",
    "scaled_t = pd.DataFrame(scaled_t, columns=names)\n",
    "\n",
    "\n",
    "#scaler = preprocessing.StandardScaler()# Fit your data on the scaler object\n",
    "#scaled_df = scaler.fit_transform(df)\n",
    "#scaled_df = pd.DataFrame(scaled_df, columns=names)"
   ]
  },
  {
   "cell_type": "code",
   "execution_count": null,
   "metadata": {
    "scrolled": false
   },
   "outputs": [],
   "source": [
    "#scaled_t['Year of Record'].mean(axis=1)"
   ]
  },
  {
   "cell_type": "code",
   "execution_count": null,
   "metadata": {},
   "outputs": [],
   "source": [
    "#sns.relplot(x=\"Year of Record\", y=\"Total Income\", data=[scaled_t[\"Crime Level\"], training_data['Total Income']])"
   ]
  },
  {
   "cell_type": "code",
   "execution_count": null,
   "metadata": {},
   "outputs": [],
   "source": [
    "#X_train = pd.DataFrame(poly.fit_transform(X_train), columns=X_train.columns)\n",
    "#poly.fit_transform(X_train)\n",
    "#X_train.head()"
   ]
  },
  {
   "cell_type": "code",
   "execution_count": null,
   "metadata": {},
   "outputs": [],
   "source": [
    "#sel = VarianceThreshold(threshold=(.9 * (1 - .9)))\n",
    "#pd.DataFrame(sel.fit_transform(X_train))"
   ]
  },
  {
   "cell_type": "code",
   "execution_count": null,
   "metadata": {},
   "outputs": [],
   "source": [
    "#x = training_data[['Year of Record', 'Work Experience', 'Age', 'Side Income']]"
   ]
  }
 ],
 "metadata": {
  "kernelspec": {
   "display_name": "Python 3",
   "language": "python",
   "name": "python3"
  },
  "language_info": {
   "codemirror_mode": {
    "name": "ipython",
    "version": 3
   },
   "file_extension": ".py",
   "mimetype": "text/x-python",
   "name": "python",
   "nbconvert_exporter": "python",
   "pygments_lexer": "ipython3",
   "version": "3.5.2"
  }
 },
 "nbformat": 4,
 "nbformat_minor": 2
}
