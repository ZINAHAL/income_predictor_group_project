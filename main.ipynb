{
 "cells": [
  {
   "cell_type": "markdown",
   "metadata": {},
   "source": [
    "# IMPORTED LIBRARIES"
   ]
  },
  {
   "cell_type": "code",
   "execution_count": 1,
   "metadata": {},
   "outputs": [],
   "source": [
    "import pandas as pd\n",
    "import numpy as np\n",
    "import seaborn as sns\n",
    "import matplotlib.pyplot as plt\n",
    "\n",
    "plt.rcParams['figure.figsize'] = [40, 20]\n",
    "\n",
    "#%matplotlib inline\n",
    "plt.style.use('seaborn-whitegrid')"
   ]
  },
  {
   "cell_type": "markdown",
   "metadata": {},
   "source": [
    "# READING THE DATA"
   ]
  },
  {
   "cell_type": "code",
   "execution_count": 2,
   "metadata": {},
   "outputs": [
    {
     "name": "stderr",
     "output_type": "stream",
     "text": [
      "/usr/local/lib/python3.5/dist-packages/IPython/core/interactiveshell.py:3058: DtypeWarning: Columns (2) have mixed types. Specify dtype option on import or set low_memory=False.\n",
      "  interactivity=interactivity, compiler=compiler, result=result)\n"
     ]
    }
   ],
   "source": [
    "missing_values = ['0', 'nA', '#NUM!']\n",
    "training_data = pd.read_csv(\"data/income-train.csv\", na_values=missing_values)\n",
    "test_data = pd.read_csv(\"data/income-test.csv\", na_values=missing_values)"
   ]
  },
  {
   "cell_type": "code",
   "execution_count": 3,
   "metadata": {},
   "outputs": [],
   "source": [
    "rename_cols = {\"Crime Level in the City of Employement\" : \"Crime Level\",\n",
    "              \"Work Experience in Current Job [years]\" : \"Work Experience\",\n",
    "              \"Body Height [cm]\" : \"Body Height\",\n",
    "              \"Yearly Income in addition to Salary (e.g. Rental Income)\" : \"Side Income\",\n",
    "              \"Total Yearly Income [EUR]\" : \"Total Income\"}\n",
    "\n",
    "training_data.rename(columns=rename_cols, inplace=True)"
   ]
  },
  {
   "cell_type": "code",
   "execution_count": null,
   "metadata": {},
   "outputs": [],
   "source": [
    "#training_data.head()"
   ]
  },
  {
   "cell_type": "markdown",
   "metadata": {},
   "source": [
    "# Training Data Pre-processing"
   ]
  },
  {
   "cell_type": "markdown",
   "metadata": {},
   "source": [
    "## - Dropping/Changing Rows/Columns"
   ]
  },
  {
   "cell_type": "code",
   "execution_count": 4,
   "metadata": {},
   "outputs": [],
   "source": [
    "training_data.drop(columns=['Instance'], inplace=True)"
   ]
  },
  {
   "cell_type": "code",
   "execution_count": 5,
   "metadata": {},
   "outputs": [],
   "source": [
    "training_data.drop_duplicates(inplace=True)"
   ]
  },
  {
   "cell_type": "code",
   "execution_count": 6,
   "metadata": {},
   "outputs": [],
   "source": [
    "training_data.dropna(subset=['Year of Record', 'Country'], inplace=True)"
   ]
  },
  {
   "cell_type": "code",
   "execution_count": 7,
   "metadata": {},
   "outputs": [],
   "source": [
    "# these are the outliers: the rows that don't go well with the graph of 'Year of Record' x 'Total Income' and 'Housing situation' x 'Total Income'\n",
    "training_data.drop(index=list(training_data[(training_data['Total Income'] > 500000) & (training_data['Total Income'] < 700000) & (training_data['Year of Record'] < 1995)].index), inplace=True)"
   ]
  },
  {
   "cell_type": "code",
   "execution_count": 8,
   "metadata": {},
   "outputs": [],
   "source": [
    "training_data['Gender'] = training_data['Gender'].replace('f', 'female')"
   ]
  },
  {
   "cell_type": "code",
   "execution_count": 22,
   "metadata": {},
   "outputs": [],
   "source": [
    "training_data['Side Income'] = training_data['Side Income'].map(lambda x: x.rstrip('\\sEUR'))"
   ]
  },
  {
   "cell_type": "markdown",
   "metadata": {},
   "source": [
    "## - Dealing with NaN values"
   ]
  },
  {
   "cell_type": "code",
   "execution_count": 9,
   "metadata": {},
   "outputs": [],
   "source": [
    "training_data['Housing Situation'] = training_data['Housing Situation'].fillna(value='shared_place')"
   ]
  },
  {
   "cell_type": "code",
   "execution_count": 10,
   "metadata": {},
   "outputs": [],
   "source": [
    "training_data['Crime Level'] = training_data['Crime Level'].fillna(value=0)"
   ]
  },
  {
   "cell_type": "code",
   "execution_count": 11,
   "metadata": {},
   "outputs": [],
   "source": [
    "training_data['Work Experience'] = training_data['Work Experience'].fillna(value='0')"
   ]
  },
  {
   "cell_type": "code",
   "execution_count": 12,
   "metadata": {},
   "outputs": [],
   "source": [
    "training_data['Satisfation with employer'] = training_data['Satisfation with employer'].fillna(value='Somewhat Unhappy')"
   ]
  },
  {
   "cell_type": "code",
   "execution_count": 13,
   "metadata": {},
   "outputs": [],
   "source": [
    "training_data['Gender'] = training_data['Gender'].fillna(value='unknown')"
   ]
  },
  {
   "cell_type": "code",
   "execution_count": 14,
   "metadata": {},
   "outputs": [],
   "source": [
    "training_data['Profession'] = training_data['Profession'].fillna(value='no job')"
   ]
  },
  {
   "cell_type": "code",
   "execution_count": 15,
   "metadata": {},
   "outputs": [],
   "source": [
    "training_data['University Degree'] = training_data['University Degree'].fillna(value='No')"
   ]
  },
  {
   "cell_type": "code",
   "execution_count": 16,
   "metadata": {},
   "outputs": [],
   "source": [
    "training_data['Wears Glasses'] = training_data['Wears Glasses'].fillna(value=0)"
   ]
  },
  {
   "cell_type": "code",
   "execution_count": 17,
   "metadata": {},
   "outputs": [],
   "source": [
    "training_data['Hair Color'] = training_data['Hair Color'].fillna(value='Bold')"
   ]
  },
  {
   "cell_type": "markdown",
   "metadata": {},
   "source": [
    "## - Handling of Column Data Types"
   ]
  },
  {
   "cell_type": "code",
   "execution_count": 18,
   "metadata": {},
   "outputs": [],
   "source": [
    "training_data['Work Experience'] = pd.to_numeric(training_data['Work Experience'])"
   ]
  },
  {
   "cell_type": "code",
   "execution_count": 25,
   "metadata": {},
   "outputs": [],
   "source": [
    "training_data['Side Income'] = pd.to_numeric(training_data['Side Income'])"
   ]
  },
  {
   "cell_type": "code",
   "execution_count": 26,
   "metadata": {},
   "outputs": [
    {
     "data": {
      "text/plain": [
       "Year of Record               float64\n",
       "Housing Situation             object\n",
       "Crime Level                  float64\n",
       "Work Experience              float64\n",
       "Satisfation with employer     object\n",
       "Gender                        object\n",
       "Age                            int64\n",
       "Country                       object\n",
       "Size of City                   int64\n",
       "Profession                    object\n",
       "University Degree             object\n",
       "Wears Glasses                float64\n",
       "Hair Color                    object\n",
       "Body Height                    int64\n",
       "Side Income                  float64\n",
       "Total Income                 float64\n",
       "dtype: object"
      ]
     },
     "execution_count": 26,
     "metadata": {},
     "output_type": "execute_result"
    }
   ],
   "source": [
    "training_data.dtypes"
   ]
  },
  {
   "cell_type": "markdown",
   "metadata": {},
   "source": [
    "## - Encoding Categorical Features"
   ]
  },
  {
   "cell_type": "code",
   "execution_count": null,
   "metadata": {},
   "outputs": [],
   "source": [
    "#for col in train.dtypes[train.dtypes == 'object'].index.tolist():\n",
    "#    feat_le = LabelEncoder()\n",
    "#    feat_le.fit(data[col].unique().astype(str))\n",
    "#    data[col] = feat_le.transform(data[col].astype(str))"
   ]
  },
  {
   "cell_type": "markdown",
   "metadata": {},
   "source": [
    "## - Graphs"
   ]
  },
  {
   "cell_type": "code",
   "execution_count": null,
   "metadata": {},
   "outputs": [],
   "source": [
    "#sns.catplot(x=\"Satisfation with employer\", y=\"Total Income\", data=training_data[[\"Satisfation with employer\", \"Total Income\"]])"
   ]
  },
  {
   "cell_type": "code",
   "execution_count": null,
   "metadata": {},
   "outputs": [],
   "source": [
    "#sns.countplot(training_data['Work Experience'])"
   ]
  },
  {
   "cell_type": "code",
   "execution_count": null,
   "metadata": {},
   "outputs": [],
   "source": [
    "#sns.relplot(x=\"Work Experience\", y=\"Total Income\", data=training_data[[\"Work Experience\", \"Total Income\"]])"
   ]
  },
  {
   "cell_type": "code",
   "execution_count": null,
   "metadata": {},
   "outputs": [],
   "source": [
    "#training_data['Crime Level'].value_counts(dropna=False)"
   ]
  },
  {
   "cell_type": "code",
   "execution_count": null,
   "metadata": {},
   "outputs": [],
   "source": [
    "#sns.countplot(training_data['Crime Level'])"
   ]
  },
  {
   "cell_type": "code",
   "execution_count": null,
   "metadata": {},
   "outputs": [],
   "source": [
    "#sns.relplot(x=\"Crime Level\", y=\"Total Income\", data=training_data[[\"Crime Level\", \"Total Income\"]]);"
   ]
  },
  {
   "cell_type": "code",
   "execution_count": null,
   "metadata": {},
   "outputs": [],
   "source": [
    "#training_data['Housing Situation'].value_counts(dropna=False)"
   ]
  },
  {
   "cell_type": "code",
   "execution_count": null,
   "metadata": {},
   "outputs": [],
   "source": [
    "#sns.countplot(training_data['Housing Situation'])"
   ]
  },
  {
   "cell_type": "code",
   "execution_count": null,
   "metadata": {},
   "outputs": [],
   "source": [
    "#sns.catplot(x=\"Housing Situation\", y=\"Total Income\", data=training_data[[\"Housing Situation\", \"Total Income\"]])"
   ]
  },
  {
   "cell_type": "code",
   "execution_count": null,
   "metadata": {},
   "outputs": [],
   "source": [
    "#sns.countplot(training_data['Year of Record'])"
   ]
  },
  {
   "cell_type": "code",
   "execution_count": null,
   "metadata": {},
   "outputs": [],
   "source": [
    "#sns.relplot(x=\"Year of Record\", y=\"Total Income\", data=training_data[[\"Year of Record\", \"Total Income\"]]);"
   ]
  },
  {
   "cell_type": "markdown",
   "metadata": {},
   "source": [
    "## - Side Work"
   ]
  },
  {
   "cell_type": "code",
   "execution_count": 28,
   "metadata": {},
   "outputs": [
    {
     "data": {
      "text/html": [
       "<div>\n",
       "<style scoped>\n",
       "    .dataframe tbody tr th:only-of-type {\n",
       "        vertical-align: middle;\n",
       "    }\n",
       "\n",
       "    .dataframe tbody tr th {\n",
       "        vertical-align: top;\n",
       "    }\n",
       "\n",
       "    .dataframe thead th {\n",
       "        text-align: right;\n",
       "    }\n",
       "</style>\n",
       "<table border=\"1\" class=\"dataframe\">\n",
       "  <thead>\n",
       "    <tr style=\"text-align: right;\">\n",
       "      <th></th>\n",
       "      <th>Year of Record</th>\n",
       "      <th>Crime Level</th>\n",
       "      <th>Work Experience</th>\n",
       "      <th>Age</th>\n",
       "      <th>Size of City</th>\n",
       "      <th>Wears Glasses</th>\n",
       "      <th>Body Height</th>\n",
       "      <th>Side Income</th>\n",
       "      <th>Total Income</th>\n",
       "    </tr>\n",
       "  </thead>\n",
       "  <tbody>\n",
       "    <tr>\n",
       "      <th>Year of Record</th>\n",
       "      <td>1.000000</td>\n",
       "      <td>-0.000781</td>\n",
       "      <td>0.000122</td>\n",
       "      <td>-0.000184</td>\n",
       "      <td>0.000050</td>\n",
       "      <td>0.000590</td>\n",
       "      <td>0.000216</td>\n",
       "      <td>0.001076</td>\n",
       "      <td>0.643563</td>\n",
       "    </tr>\n",
       "    <tr>\n",
       "      <th>Crime Level</th>\n",
       "      <td>-0.000781</td>\n",
       "      <td>1.000000</td>\n",
       "      <td>0.191978</td>\n",
       "      <td>0.197523</td>\n",
       "      <td>0.000098</td>\n",
       "      <td>0.001556</td>\n",
       "      <td>-0.000938</td>\n",
       "      <td>-0.000876</td>\n",
       "      <td>-0.026944</td>\n",
       "    </tr>\n",
       "    <tr>\n",
       "      <th>Work Experience</th>\n",
       "      <td>0.000122</td>\n",
       "      <td>0.191978</td>\n",
       "      <td>1.000000</td>\n",
       "      <td>0.968826</td>\n",
       "      <td>-0.000541</td>\n",
       "      <td>0.000118</td>\n",
       "      <td>0.055527</td>\n",
       "      <td>0.000310</td>\n",
       "      <td>0.108466</td>\n",
       "    </tr>\n",
       "    <tr>\n",
       "      <th>Age</th>\n",
       "      <td>-0.000184</td>\n",
       "      <td>0.197523</td>\n",
       "      <td>0.968826</td>\n",
       "      <td>1.000000</td>\n",
       "      <td>-0.000404</td>\n",
       "      <td>0.000135</td>\n",
       "      <td>0.001067</td>\n",
       "      <td>0.000181</td>\n",
       "      <td>0.103670</td>\n",
       "    </tr>\n",
       "    <tr>\n",
       "      <th>Size of City</th>\n",
       "      <td>0.000050</td>\n",
       "      <td>0.000098</td>\n",
       "      <td>-0.000541</td>\n",
       "      <td>-0.000404</td>\n",
       "      <td>1.000000</td>\n",
       "      <td>-0.000889</td>\n",
       "      <td>-0.001228</td>\n",
       "      <td>-0.001425</td>\n",
       "      <td>0.024541</td>\n",
       "    </tr>\n",
       "    <tr>\n",
       "      <th>Wears Glasses</th>\n",
       "      <td>0.000590</td>\n",
       "      <td>0.001556</td>\n",
       "      <td>0.000118</td>\n",
       "      <td>0.000135</td>\n",
       "      <td>-0.000889</td>\n",
       "      <td>1.000000</td>\n",
       "      <td>0.000558</td>\n",
       "      <td>-0.001407</td>\n",
       "      <td>0.000779</td>\n",
       "    </tr>\n",
       "    <tr>\n",
       "      <th>Body Height</th>\n",
       "      <td>0.000216</td>\n",
       "      <td>-0.000938</td>\n",
       "      <td>0.055527</td>\n",
       "      <td>0.001067</td>\n",
       "      <td>-0.001228</td>\n",
       "      <td>0.000558</td>\n",
       "      <td>1.000000</td>\n",
       "      <td>0.001601</td>\n",
       "      <td>0.021191</td>\n",
       "    </tr>\n",
       "    <tr>\n",
       "      <th>Side Income</th>\n",
       "      <td>0.001076</td>\n",
       "      <td>-0.000876</td>\n",
       "      <td>0.000310</td>\n",
       "      <td>0.000181</td>\n",
       "      <td>-0.001425</td>\n",
       "      <td>-0.001407</td>\n",
       "      <td>0.001601</td>\n",
       "      <td>1.000000</td>\n",
       "      <td>0.205381</td>\n",
       "    </tr>\n",
       "    <tr>\n",
       "      <th>Total Income</th>\n",
       "      <td>0.643563</td>\n",
       "      <td>-0.026944</td>\n",
       "      <td>0.108466</td>\n",
       "      <td>0.103670</td>\n",
       "      <td>0.024541</td>\n",
       "      <td>0.000779</td>\n",
       "      <td>0.021191</td>\n",
       "      <td>0.205381</td>\n",
       "      <td>1.000000</td>\n",
       "    </tr>\n",
       "  </tbody>\n",
       "</table>\n",
       "</div>"
      ],
      "text/plain": [
       "                 Year of Record  Crime Level  Work Experience       Age  \\\n",
       "Year of Record         1.000000    -0.000781         0.000122 -0.000184   \n",
       "Crime Level           -0.000781     1.000000         0.191978  0.197523   \n",
       "Work Experience        0.000122     0.191978         1.000000  0.968826   \n",
       "Age                   -0.000184     0.197523         0.968826  1.000000   \n",
       "Size of City           0.000050     0.000098        -0.000541 -0.000404   \n",
       "Wears Glasses          0.000590     0.001556         0.000118  0.000135   \n",
       "Body Height            0.000216    -0.000938         0.055527  0.001067   \n",
       "Side Income            0.001076    -0.000876         0.000310  0.000181   \n",
       "Total Income           0.643563    -0.026944         0.108466  0.103670   \n",
       "\n",
       "                 Size of City  Wears Glasses  Body Height  Side Income  \\\n",
       "Year of Record       0.000050       0.000590     0.000216     0.001076   \n",
       "Crime Level          0.000098       0.001556    -0.000938    -0.000876   \n",
       "Work Experience     -0.000541       0.000118     0.055527     0.000310   \n",
       "Age                 -0.000404       0.000135     0.001067     0.000181   \n",
       "Size of City         1.000000      -0.000889    -0.001228    -0.001425   \n",
       "Wears Glasses       -0.000889       1.000000     0.000558    -0.001407   \n",
       "Body Height         -0.001228       0.000558     1.000000     0.001601   \n",
       "Side Income         -0.001425      -0.001407     0.001601     1.000000   \n",
       "Total Income         0.024541       0.000779     0.021191     0.205381   \n",
       "\n",
       "                 Total Income  \n",
       "Year of Record       0.643563  \n",
       "Crime Level         -0.026944  \n",
       "Work Experience      0.108466  \n",
       "Age                  0.103670  \n",
       "Size of City         0.024541  \n",
       "Wears Glasses        0.000779  \n",
       "Body Height          0.021191  \n",
       "Side Income          0.205381  \n",
       "Total Income         1.000000  "
      ]
     },
     "execution_count": 28,
     "metadata": {},
     "output_type": "execute_result"
    }
   ],
   "source": [
    "training_data.corr()"
   ]
  }
 ],
 "metadata": {
  "kernelspec": {
   "display_name": "Python 3",
   "language": "python",
   "name": "python3"
  },
  "language_info": {
   "codemirror_mode": {
    "name": "ipython",
    "version": 3
   },
   "file_extension": ".py",
   "mimetype": "text/x-python",
   "name": "python",
   "nbconvert_exporter": "python",
   "pygments_lexer": "ipython3",
   "version": "3.5.2"
  }
 },
 "nbformat": 4,
 "nbformat_minor": 2
}
