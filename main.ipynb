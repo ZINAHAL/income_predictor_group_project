{
 "cells": [
  {
   "cell_type": "markdown",
   "metadata": {},
   "source": [
    "# IMPORTED LIBRARIES"
   ]
  },
  {
   "cell_type": "code",
   "execution_count": null,
   "metadata": {},
   "outputs": [],
   "source": [
    "import pandas as pd\n",
    "import numpy as np\n",
    "import seaborn as sns\n",
    "import matplotlib.pyplot as plt\n",
    "\n",
    "from sklearn.preprocessing import LabelEncoder #PolynomialFeatures, StandardScaler, scale\n",
    "#from sklearn.linear_model import LinearRegression, Ridge\n",
    "\n",
    "from category_encoders import *\n",
    "import lightgbm as lgbm\n",
    "from sklearn.model_selection import train_test_split\n",
    "\n",
    "plt.rcParams['figure.figsize'] = [50, 60]\n",
    "\n",
    "#%matplotlib inline\n",
    "plt.style.use('seaborn-whitegrid')"
   ]
  },
  {
   "cell_type": "markdown",
   "metadata": {},
   "source": [
    "# READING THE DATA"
   ]
  },
  {
   "cell_type": "code",
   "execution_count": null,
   "metadata": {},
   "outputs": [],
   "source": [
    "missing_values = ['0', 'nA', '#NUM!', '#NA', '#N/A']\n",
    "training_data = pd.read_csv(\"data/income-train.csv\", na_values=missing_values)\n",
    "test_data = pd.read_csv(\"data/income-test.csv\", na_values=missing_values)"
   ]
  },
  {
   "cell_type": "code",
   "execution_count": null,
   "metadata": {},
   "outputs": [],
   "source": [
    "rename_cols = {\"Crime Level in the City of Employement\" : \"Crime Level\",\n",
    "              \"Work Experience in Current Job [years]\" : \"Work Experience\",\n",
    "              \"Body Height [cm]\" : \"Body Height\",\n",
    "              \"Yearly Income in addition to Salary (e.g. Rental Income)\" : \"Side Income\",\n",
    "              \"Total Yearly Income [EUR]\" : \"Total Income\"}\n",
    "\n",
    "training_data.rename(columns=rename_cols, inplace=True)\n",
    "test_data.rename(columns=rename_cols, inplace=True)"
   ]
  },
  {
   "cell_type": "markdown",
   "metadata": {},
   "source": [
    "# TRAINING DATA PREPROCESSING"
   ]
  },
  {
   "cell_type": "markdown",
   "metadata": {},
   "source": [
    "## - Dropping/Changing Rows/Columns"
   ]
  },
  {
   "cell_type": "code",
   "execution_count": null,
   "metadata": {},
   "outputs": [],
   "source": [
    "training_data.drop(columns=['Instance','Wears Glasses','Hair Color','Body Height','Crime Level'], inplace=True)\n",
    "test_data.drop(columns=['Wears Glasses','Hair Color','Body Height','Crime Level', 'Total Income'], inplace=True)"
   ]
  },
  {
   "cell_type": "code",
   "execution_count": null,
   "metadata": {},
   "outputs": [],
   "source": [
    "training_data.drop_duplicates(inplace=True)"
   ]
  },
  {
   "cell_type": "code",
   "execution_count": null,
   "metadata": {},
   "outputs": [],
   "source": [
    "training_data.dropna(subset=['Year of Record'], inplace=True)"
   ]
  },
  {
   "cell_type": "code",
   "execution_count": null,
   "metadata": {},
   "outputs": [],
   "source": [
    "# these are the outliers: the rows that don't go well with the graph of 'Year of Record' x 'Total Income' and 'Housing situation' x 'Total Income'\n",
    "training_data.drop(index=list(training_data[(training_data['Total Income'] > 500000) & (training_data['Total Income'] < 700000) & (training_data['Year of Record'] < 1995)].index), inplace=True)"
   ]
  },
  {
   "cell_type": "code",
   "execution_count": null,
   "metadata": {},
   "outputs": [],
   "source": [
    "training_data['Gender'] = training_data['Gender'].replace('f', 'female')\n",
    "test_data['Gender'] = test_data['Gender'].replace('f', 'female')"
   ]
  },
  {
   "cell_type": "code",
   "execution_count": null,
   "metadata": {},
   "outputs": [],
   "source": [
    "training_data['Side Income'] = training_data['Side Income'].map(lambda x: x.rstrip('\\sEUR'))\n",
    "test_data['Side Income'] = test_data['Side Income'].map(lambda x: x.rstrip('\\sEUR'))"
   ]
  },
  {
   "cell_type": "markdown",
   "metadata": {},
   "source": [
    "## - Dealing with NaN values"
   ]
  },
  {
   "cell_type": "code",
   "execution_count": null,
   "metadata": {},
   "outputs": [],
   "source": [
    "column_NaN_values = {\"Housing Situation\" : \"shared_place\",\n",
    "                    \"Work Experience\" : \"0\",\n",
    "                    \"Satisfation with employer\" : \"Somewhat Unhappy\",\n",
    "                    \"Gender\" : \"unknown\",\n",
    "                    \"Profession\" : \"no job\",\n",
    "                    \"University Degree\" : \"No\",\n",
    "                    \"Country\" : \"No\"}\n",
    "                    #\"Year of Record\" : 0}\n",
    "\n",
    "for col in training_data.dtypes.index.tolist():\n",
    "    if col in column_NaN_values.keys():\n",
    "        training_data[col] = training_data[col].fillna(value=column_NaN_values[col])\n",
    "        test_data[col] = test_data[col].fillna(value=column_NaN_values[col])\n",
    "\n",
    "test_data['Year of Record'] = test_data['Year of Record'].fillna(value=training_data['Year of Record'].mean())"
   ]
  },
  {
   "cell_type": "markdown",
   "metadata": {},
   "source": [
    "## - Handling of Column Data Types"
   ]
  },
  {
   "cell_type": "code",
   "execution_count": null,
   "metadata": {},
   "outputs": [],
   "source": [
    "training_data['Work Experience'] = pd.to_numeric(training_data['Work Experience']).astype(int)\n",
    "test_data['Work Experience'] = pd.to_numeric(test_data['Work Experience']).astype(int)"
   ]
  },
  {
   "cell_type": "code",
   "execution_count": null,
   "metadata": {},
   "outputs": [],
   "source": [
    "training_data['Side Income'] = pd.to_numeric(training_data['Side Income'])\n",
    "test_data['Side Income'] = pd.to_numeric(test_data['Side Income'])"
   ]
  },
  {
   "cell_type": "markdown",
   "metadata": {},
   "source": [
    "## - Encoding Categorical Features"
   ]
  },
  {
   "cell_type": "code",
   "execution_count": null,
   "metadata": {},
   "outputs": [],
   "source": [
    "#for col in training_data.dtypes[training_data.dtypes == 'object'].index.tolist():\n",
    "#    le = LabelEncoder()\n",
    "#    le.fit(training_data[col].unique())\n",
    "#    training_data[col] = le.transform(training_data[col])\n",
    "#    \n",
    "#for col in test_data.dtypes[test_data.dtypes == 'object'].index.tolist():\n",
    "#    le = LabelEncoder()\n",
    "#    le.fit(test_data[col].unique())\n",
    "#    test_data[col] = le.transform(test_data[col])"
   ]
  },
  {
   "cell_type": "code",
   "execution_count": null,
   "metadata": {},
   "outputs": [],
   "source": [
    "y = training_data['Total Income']\n",
    "x = training_data.drop(columns=['Total Income'])\n",
    "pred_instance = test_data['Instance']"
   ]
  },
  {
   "cell_type": "code",
   "execution_count": null,
   "metadata": {},
   "outputs": [],
   "source": [
    "target_encoder = TargetEncoder()\n",
    "target_encoder.fit(x,y)\n",
    "\n",
    "x = target_encoder.transform(x)\n",
    "x_for_pred = target_encoder.transform(test_data.drop(columns=['Instance']))"
   ]
  },
  {
   "cell_type": "markdown",
   "metadata": {},
   "source": [
    "## - Building the Model"
   ]
  },
  {
   "cell_type": "code",
   "execution_count": null,
   "metadata": {},
   "outputs": [],
   "source": [
    "X_train,X_test,y_train,y_test = train_test_split(x, y, test_size=0.3, random_state=0)"
   ]
  },
  {
   "cell_type": "code",
   "execution_count": null,
   "metadata": {},
   "outputs": [],
   "source": [
    "d_train = lgbm.Dataset(X_train, label=y_train)\n",
    "params = {'learning_rate' : 0.003,\n",
    "         'boosting_type' : 'gbdt',\n",
    "         'objective' : 'regression',\n",
    "         'metric' : 'mae'}\n",
    "\n",
    "reg = lgbm.train(params, d_train, 35000)"
   ]
  },
  {
   "cell_type": "code",
   "execution_count": null,
   "metadata": {},
   "outputs": [],
   "source": [
    "y_pred = reg.predict(x_for_pred)"
   ]
  },
  {
   "cell_type": "code",
   "execution_count": null,
   "metadata": {},
   "outputs": [],
   "source": [
    "sub_df = pd.DataFrame({'Instance': pred_instance,\n",
    "                       'Total Yearly Income [EUR]': y_pred})\n",
    "\n",
    "sub_df.to_csv(\"tcd-ml-1920-group-income-submission.csv\",index=False)"
   ]
  },
  {
   "cell_type": "markdown",
   "metadata": {},
   "source": [
    "## - Graphs"
   ]
  },
  {
   "cell_type": "code",
   "execution_count": null,
   "metadata": {},
   "outputs": [],
   "source": [
    "#sns.catplot(x=\"Satisfation with employer\", y=\"Total Income\", data=training_data[[\"Satisfation with employer\", \"Total Income\"]])"
   ]
  },
  {
   "cell_type": "code",
   "execution_count": null,
   "metadata": {},
   "outputs": [],
   "source": [
    "#sns.countplot(training_data['Work Experience'])"
   ]
  },
  {
   "cell_type": "code",
   "execution_count": null,
   "metadata": {},
   "outputs": [],
   "source": [
    "#sns.relplot(x=\"Work Experience\", y=\"Total Income\", data=training_data[[\"Work Experience\", \"Total Income\"]])"
   ]
  },
  {
   "cell_type": "code",
   "execution_count": null,
   "metadata": {},
   "outputs": [],
   "source": [
    "#training_data['Crime Level'].value_counts(dropna=False)"
   ]
  },
  {
   "cell_type": "code",
   "execution_count": null,
   "metadata": {},
   "outputs": [],
   "source": [
    "#sns.countplot(training_data['Crime Level'])"
   ]
  },
  {
   "cell_type": "code",
   "execution_count": null,
   "metadata": {},
   "outputs": [],
   "source": [
    "#sns.relplot(x=\"Crime Level\", y=\"Total Income\", data=training_data[[\"Crime Level\", \"Total Income\"]]);"
   ]
  },
  {
   "cell_type": "code",
   "execution_count": null,
   "metadata": {},
   "outputs": [],
   "source": [
    "#training_data['Housing Situation'].value_counts(dropna=False)"
   ]
  },
  {
   "cell_type": "code",
   "execution_count": null,
   "metadata": {},
   "outputs": [],
   "source": [
    "#sns.countplot(training_data['Housing Situation'])"
   ]
  },
  {
   "cell_type": "code",
   "execution_count": null,
   "metadata": {},
   "outputs": [],
   "source": [
    "#sns.catplot(x=\"Housing Situation\", y=\"Total Income\", data=training_data[[\"Housing Situation\", \"Total Income\"]])"
   ]
  },
  {
   "cell_type": "code",
   "execution_count": null,
   "metadata": {},
   "outputs": [],
   "source": [
    "#sns.countplot(training_data['Year of Record'])"
   ]
  },
  {
   "cell_type": "code",
   "execution_count": null,
   "metadata": {},
   "outputs": [],
   "source": [
    "#sns.relplot(x=\"Year of Record\", y=\"Total Income\", data=training_data[[\"Year of Record\", \"Total Income\"]]);"
   ]
  },
  {
   "cell_type": "markdown",
   "metadata": {},
   "source": [
    "## - Side Work"
   ]
  },
  {
   "cell_type": "code",
   "execution_count": null,
   "metadata": {},
   "outputs": [],
   "source": [
    "#training_data.dropna(subset=['Year of Record', 'Country'], inplace=True) #******"
   ]
  },
  {
   "cell_type": "code",
   "execution_count": null,
   "metadata": {},
   "outputs": [],
   "source": [
    "sns.relplot(x=\"Crime Level\", y=\"Total Income\", data=training_data[[\"Crime Level\", \"Total Income\"]])"
   ]
  },
  {
   "cell_type": "code",
   "execution_count": null,
   "metadata": {},
   "outputs": [],
   "source": [
    "#sns.relplot(x=\"Year of Record\", y=\"Total Income\", data=pd.DataFrame([X_train[\"Year of Record\"], y]))"
   ]
  },
  {
   "cell_type": "code",
   "execution_count": null,
   "metadata": {},
   "outputs": [],
   "source": [
    "regression = LinearRegression().fit(X_train, y_train)"
   ]
  },
  {
   "cell_type": "code",
   "execution_count": null,
   "metadata": {},
   "outputs": [],
   "source": [
    "regression.score(X_train, y_train)"
   ]
  },
  {
   "cell_type": "code",
   "execution_count": null,
   "metadata": {},
   "outputs": [],
   "source": [
    "pred = regression.predict(X_test)\n",
    "#print(\"Root Mean squared Error\")\n",
    "#print((sqrt(mean_squared_error(np.exp(Y_test), np.exp(pred)))))"
   ]
  },
  {
   "cell_type": "code",
   "execution_count": null,
   "metadata": {},
   "outputs": [],
   "source": [
    "#poly = PolynomialFeatures(degree=15)\n",
    "#poly.fit_transform(X_train)"
   ]
  },
  {
   "cell_type": "code",
   "execution_count": null,
   "metadata": {},
   "outputs": [],
   "source": [
    "\n",
    "X = [[0.44, 0.68], [0.99, 0.23]]\n",
    "vector = [109.85, 155.72]\n",
    "predict= [[0.49, 0.18]]\n",
    "#Edit: added second square bracket above to fix the ValueError problem\n",
    "\n",
    "poly = PolynomialFeatures(degree=2)\n",
    "X_ = poly.fit_transform(X)\n",
    "predict_ = poly.fit_transform(predict)\n",
    "\n",
    "clf = linear_model.LinearRegression()\n",
    "clf.fit(X_, vector)\n",
    "print clf.predict(predict_)"
   ]
  },
  {
   "cell_type": "code",
   "execution_count": null,
   "metadata": {},
   "outputs": [],
   "source": [
    "tt = training_data.drop(columns=['Total Income'])\n",
    "st = scale(tt)\n"
   ]
  },
  {
   "cell_type": "code",
   "execution_count": null,
   "metadata": {},
   "outputs": [],
   "source": [
    "t = training_data.drop(columns=['Total Income'])\n",
    "names = t.columns\n",
    "#scaled_t = scale(t)\n",
    "\n",
    "scaler = StandardScaler()\n",
    "scaled_t = scaler.fit_transform(t)\n",
    "scaled_t = pd.DataFrame(scaled_t, columns=names)\n",
    "\n",
    "\n",
    "#scaler = preprocessing.StandardScaler()# Fit your data on the scaler object\n",
    "#scaled_df = scaler.fit_transform(df)\n",
    "#scaled_df = pd.DataFrame(scaled_df, columns=names)"
   ]
  },
  {
   "cell_type": "code",
   "execution_count": null,
   "metadata": {
    "scrolled": false
   },
   "outputs": [],
   "source": [
    "#scaled_t['Year of Record'].mean(axis=1)"
   ]
  },
  {
   "cell_type": "code",
   "execution_count": null,
   "metadata": {},
   "outputs": [],
   "source": [
    "#sns.relplot(x=\"Year of Record\", y=\"Total Income\", data=[scaled_t[\"Crime Level\"], training_data['Total Income']])"
   ]
  },
  {
   "cell_type": "code",
   "execution_count": null,
   "metadata": {},
   "outputs": [],
   "source": [
    "#X_train = pd.DataFrame(poly.fit_transform(X_train), columns=X_train.columns)\n",
    "#poly.fit_transform(X_train)\n",
    "#X_train.head()"
   ]
  },
  {
   "cell_type": "code",
   "execution_count": null,
   "metadata": {},
   "outputs": [],
   "source": [
    "#sel = VarianceThreshold(threshold=(.9 * (1 - .9)))\n",
    "#pd.DataFrame(sel.fit_transform(X_train))"
   ]
  },
  {
   "cell_type": "code",
   "execution_count": null,
   "metadata": {},
   "outputs": [],
   "source": [
    "#x = training_data[['Year of Record', 'Work Experience', 'Age', 'Side Income']]"
   ]
  }
 ],
 "metadata": {
  "kernelspec": {
   "display_name": "Python 3",
   "language": "python",
   "name": "python3"
  },
  "language_info": {
   "codemirror_mode": {
    "name": "ipython",
    "version": 3
   },
   "file_extension": ".py",
   "mimetype": "text/x-python",
   "name": "python",
   "nbconvert_exporter": "python",
   "pygments_lexer": "ipython3",
   "version": "3.5.2"
  }
 },
 "nbformat": 4,
 "nbformat_minor": 2
}
